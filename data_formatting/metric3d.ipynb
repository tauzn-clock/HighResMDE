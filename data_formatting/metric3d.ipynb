{
 "cells": [
  {
   "cell_type": "code",
   "execution_count": 1,
   "metadata": {},
   "outputs": [],
   "source": [
    "import torch\n",
    "from PIL import Image\n",
    "import numpy as np\n",
    "from depth_to_normal import Depth2Normal\n",
    "import csv\n",
    "import os\n",
    "import matplotlib.pyplot as plt\n",
    "import re\n",
    "\n",
    "device = \"cuda:0\"\n",
    "\n",
    "depth2normal = Depth2Normal().to(device)"
   ]
  },
  {
   "cell_type": "code",
   "execution_count": 2,
   "metadata": {},
   "outputs": [],
   "source": [
    "TRAIN_OR_TEST = \"train\"\n",
    "\n",
    "DIR_PATH = \"/scratchdata/nyu_data/\"\n",
    "DATA_FILE = \"data/nyu2_{}.csv\".format(TRAIN_OR_TEST)\n",
    "TARGET_FILE = \"data/custom_{}.csv\".format(TRAIN_OR_TEST)\n",
    "\n",
    "INTRINSIC = np.array([\n",
    "    [518.8579, 0, 325.5824, 0],\n",
    "    [0,\t518.8579, 253.7362, 0],\n",
    "    [0, 0, 1, 0],\n",
    "    [0, 0, 0, 1]\n",
    "], dtype=np.float32)\n",
    "\n",
    "DEPTH_SCALE = 1000.0\n",
    "MAX_DEPTH = 10.0"
   ]
  },
  {
   "cell_type": "code",
   "execution_count": 3,
   "metadata": {},
   "outputs": [],
   "source": [
    "with open(os.path.join(DIR_PATH,DATA_FILE), \"r\") as f:\n",
    "    reader = csv.reader(f)\n",
    "    data = list(reader)\n",
    "\n",
    "for i in range(len(data)):\n",
    "    intrinsic = torch.tensor(INTRINSIC, dtype=torch.float32).to(device)\n",
    "    intrinsic = intrinsic.unsqueeze(0)\n",
    "\n",
    "    depth_path = os.path.join(DIR_PATH,data[i][1])\n",
    "    depth = Image.open(depth_path)\n",
    "    depth = torch.Tensor(np.array(depth)).to(device)\n",
    "    depth = depth.unsqueeze(0).unsqueeze(0)\n",
    "\n",
    "    mask = (depth > depth.min()) & (depth < depth.max())\n",
    "\n",
    "    normal, mask = depth2normal(depth, intrinsic, mask, 1)\n",
    "\n",
    "    # Save as png\n",
    "\n",
    "    normal = normal.squeeze(0).cpu().numpy()\n",
    "    mask = mask.squeeze(0).squeeze(0).cpu().numpy()\n",
    "\n",
    "    normal = normal.transpose(1,2,0)\n",
    "    mask = mask.transpose(0,1)\n",
    "\n",
    "    normal = Image.fromarray((normal * 255).astype(np.uint8))\n",
    "    mask = Image.fromarray((mask * 255).astype(np.uint8))\n",
    "\n",
    "    normal_path = re.sub(\"depth\", \"normal\", depth_path)\n",
    "    mask_path = re.sub(\"depth\", \"mask\", depth_path)\n",
    "\n",
    "    normal.save(normal_path)\n",
    "    mask.save(mask_path)\n",
    "\n",
    "    data[i].append(re.sub(\"depth\", \"normal\", data[i][1]))\n",
    "    data[i].append(re.sub(\"depth\", \"mask\", data[i][1]))\n",
    "    data[i].append(INTRINSIC[0,0])\n",
    "    data[i].append(INTRINSIC[1,1])\n",
    "    data[i].append(INTRINSIC[0,2])\n",
    "    data[i].append(INTRINSIC[1,2])\n",
    "    data[i].append(DEPTH_SCALE)\n",
    "    data[i].append(MAX_DEPTH)"
   ]
  },
  {
   "cell_type": "code",
   "execution_count": 4,
   "metadata": {},
   "outputs": [],
   "source": [
    "# Save data to csv\n",
    "\n",
    "with open(os.path.join(DIR_PATH,TARGET_FILE), \"w\") as f:\n",
    "    writer = csv.writer(f)\n",
    "    writer.writerows(data)"
   ]
  }
 ],
 "metadata": {
  "kernelspec": {
   "display_name": "Python 3",
   "language": "python",
   "name": "python3"
  },
  "language_info": {
   "codemirror_mode": {
    "name": "ipython",
    "version": 3
   },
   "file_extension": ".py",
   "mimetype": "text/x-python",
   "name": "python",
   "nbconvert_exporter": "python",
   "pygments_lexer": "ipython3",
   "version": "3.10.12"
  }
 },
 "nbformat": 4,
 "nbformat_minor": 2
}
